{
 "cells": [
  {
   "cell_type": "code",
   "execution_count": 3,
   "metadata": {},
   "outputs": [
    {
     "name": "stdout",
     "output_type": "stream",
     "text": [
      "Based on your answers, you are free to enjoy the following 2 rides: \n",
      "the Ferris wheel\n",
      "the roller coaster\n"
     ]
    }
   ],
   "source": [
    "#############################################################################################################################\n",
    "# Name: Grant McKenzie\n",
    "# Email: grant.mckenzie@mcgill.ca\n",
    "# Date: 2022-09-01\n",
    "# Description: This lab takes input from a user, converts the value, runs some conditional statements and provides output\n",
    "#############################################################################################################################\n",
    "\n",
    "# Get Input Variables as strings.  New line at the end of the question is not necessary.\n",
    "height = input(\"How tall are you in feet and inches (separate with a space)?\")\n",
    "year = input(\"In what year were you born?\")\n",
    "supervision = input(\"Do you have adult supervision (enter True or False)?\")\n",
    "\n",
    "# Take the height as feet and inches and split it based on space\n",
    "height_tmp = height.split(\" \")\n",
    "# convert feet from string to int and inches from feet to int\n",
    "feet = int(height_tmp[0])\n",
    "inch = int(height_tmp[1])\n",
    "\n",
    "# divide the inches by twelve and add to the feet to get the height in feet (including decimals)\n",
    "height_ft = feet + inch/12\n",
    "\n",
    "# Calculate the ages as year minus input birth year (converted from string to int)\n",
    "# They need to remember to convert from string to int\n",
    "age = 2022 - int(year)\n",
    "\n",
    "# Conditional statement to take the string input for supervision and check if it is True or False. \n",
    "# If the string is \"true\" then reassign the supervision variable as a Boolean with value true.  \n",
    "# If not (else), assign it a value of False.\n",
    "# Students do not need to reuse the supervision variable, they could create a new one if they want\n",
    "if supervision == \"True\":\n",
    "\tsupervision = True\n",
    "else:\n",
    "\tsupervision = False\n",
    "\n",
    "# Set up the counter (for number of rides the person can use)\n",
    "counter = 0\n",
    "\n",
    "# Set up an empty string to store the names of all the rides\n",
    "rides = \"\"\n",
    "\n",
    "\n",
    "# If the age is 12 or greater\n",
    "if age >= 12:\n",
    "\n",
    "\t# The user can ride the ferris wheel.  Add to rides string and increase the counter\n",
    "\tcounter += 1\n",
    "\trides += \"\\nthe Ferris wheel\"\n",
    "\n",
    "\t# If the user is 12 years old or greater AND their height is 5 feet or greater...\n",
    "\tif height_ft >= 5:\n",
    "\n",
    "\t\t# The user can ride the roller coaster.  Add to rides string and increase the counter\n",
    "\t\tcounter += 1\n",
    "\t\trides += \"\\nthe roller coaster\"\n",
    "\n",
    "\t# If they are 12 or older but not 5 feet or taller...\n",
    "\telse:\n",
    "\n",
    "\t\t# The user can ride the mini pirate ship.  Add to rides string and increase the counter\n",
    "\t\tcounter += 1\n",
    "\t\trides += \"\\nthe mini pirate ship\"\n",
    "\n",
    "# If the user is under 12 years of age...\n",
    "else:\n",
    "\n",
    "\t# If the user is under 12 years of age and has adult supervision...\n",
    "\tif supervision:\n",
    "\n",
    "\t\t# The user can ride the Ferris wheel.  Add to rides string and increase the counter\n",
    "\t\tcounter += 1\n",
    "\t\trides += \"\\nthe Ferris wheel\"\n",
    "\telse:\n",
    "\n",
    "\t\t# The user can ride the baby train.  Add to rides string and increase the counter\n",
    "\t\tcounter += 1\n",
    "\t\trides += \"\\nthe baby train\"\n",
    "\n",
    "# create a paragraph string variable that will hold the output paragraph\n",
    "# make sure that the students use the .format syntax.\n",
    "paragraph = \"Based on your answers, you are free to enjoy the following {0} rides: {1}\".format(counter, rides)\n",
    "\n",
    "# Output to the user\n",
    "print(paragraph)\n",
    "\n",
    "\n",
    "# =========================== RUBRIC ===========================\n",
    "# Remove points for missing comments (almost all lines should be commented)\n",
    "# Remove points for not properly converting strings to numbers where appropriate\n",
    "# Remove points for not properly setting up the boolean variable\n",
    "# Remove points for not converting to feet properly\n",
    "# Remove points for not having line breaks (new line chars) between the different rides\n",
    "# Remove points if their script is redundent.  The version above is the most optimal version.  Some students will have multiple expressions in their conditional statements instead of using nested conditional statements.  Remove points if they do this.\n",
    "# Remove points if the final string does not use the \"format syntax\" (old python syntax is not appropriate)\n",
    "# 10% off per day late (including weekend days) to a maximum of 5 days.  Anything after 5 days receives a grade of 0.\n",
    "# Remember that there are 9 days grace period total for students."
   ]
  },
  {
   "cell_type": "code",
   "execution_count": 6,
   "metadata": {},
   "outputs": [
    {
     "name": "stdout",
     "output_type": "stream",
     "text": [
      "Collecting geopandas\n",
      "  Downloading geopandas-1.0.1-py3-none-any.whl.metadata (2.2 kB)\n",
      "Requirement already satisfied: numpy>=1.22 in /home/codespace/.local/lib/python3.10/site-packages (from geopandas) (2.0.0)\n",
      "Collecting pyogrio>=0.7.2 (from geopandas)\n",
      "  Downloading pyogrio-0.9.0-cp310-cp310-manylinux_2_17_x86_64.manylinux2014_x86_64.whl.metadata (3.8 kB)\n",
      "Requirement already satisfied: packaging in /home/codespace/.local/lib/python3.10/site-packages (from geopandas) (24.1)\n",
      "Requirement already satisfied: pandas>=1.4.0 in /home/codespace/.local/lib/python3.10/site-packages (from geopandas) (2.2.2)\n",
      "Collecting pyproj>=3.3.0 (from geopandas)\n",
      "  Downloading pyproj-3.6.1-cp310-cp310-manylinux_2_17_x86_64.manylinux2014_x86_64.whl.metadata (31 kB)\n",
      "Collecting shapely>=2.0.0 (from geopandas)\n",
      "  Downloading shapely-2.0.5-cp310-cp310-manylinux_2_17_x86_64.manylinux2014_x86_64.whl.metadata (7.0 kB)\n",
      "Requirement already satisfied: python-dateutil>=2.8.2 in /home/codespace/.local/lib/python3.10/site-packages (from pandas>=1.4.0->geopandas) (2.9.0.post0)\n",
      "Requirement already satisfied: pytz>=2020.1 in /home/codespace/.local/lib/python3.10/site-packages (from pandas>=1.4.0->geopandas) (2024.1)\n",
      "Requirement already satisfied: tzdata>=2022.7 in /home/codespace/.local/lib/python3.10/site-packages (from pandas>=1.4.0->geopandas) (2024.1)\n",
      "Requirement already satisfied: certifi in /home/codespace/.local/lib/python3.10/site-packages (from pyogrio>=0.7.2->geopandas) (2024.7.4)\n",
      "Requirement already satisfied: six>=1.5 in /home/codespace/.local/lib/python3.10/site-packages (from python-dateutil>=2.8.2->pandas>=1.4.0->geopandas) (1.16.0)\n",
      "Downloading geopandas-1.0.1-py3-none-any.whl (323 kB)\n",
      "\u001b[2K   \u001b[90m━━━━━━━━━━━━━━━━━━━━━━━━━━━━━━━━━━━━━━━━\u001b[0m \u001b[32m323.6/323.6 kB\u001b[0m \u001b[31m8.6 MB/s\u001b[0m eta \u001b[36m0:00:00\u001b[0m:00:01\u001b[0m\n",
      "\u001b[?25hDownloading pyogrio-0.9.0-cp310-cp310-manylinux_2_17_x86_64.manylinux2014_x86_64.whl (23.1 MB)\n",
      "\u001b[2K   \u001b[90m━━━━━━━━━━━━━━━━━━━━━━━━━━━━━━━━━━━━━━━━\u001b[0m \u001b[32m23.1/23.1 MB\u001b[0m \u001b[31m43.4 MB/s\u001b[0m eta \u001b[36m0:00:00\u001b[0m:00:01\u001b[0m00:01\u001b[0m\n",
      "\u001b[?25hDownloading pyproj-3.6.1-cp310-cp310-manylinux_2_17_x86_64.manylinux2014_x86_64.whl (8.3 MB)\n",
      "\u001b[2K   \u001b[90m━━━━━━━━━━━━━━━━━━━━━━━━━━━━━━━━━━━━━━━━\u001b[0m \u001b[32m8.3/8.3 MB\u001b[0m \u001b[31m60.1 MB/s\u001b[0m eta \u001b[36m0:00:00\u001b[0m:00:01\u001b[0m00:01\u001b[0m\n",
      "\u001b[?25hDownloading shapely-2.0.5-cp310-cp310-manylinux_2_17_x86_64.manylinux2014_x86_64.whl (2.5 MB)\n",
      "\u001b[2K   \u001b[90m━━━━━━━━━━━━━━━━━━━━━━━━━━━━━━━━━━━━━━━━\u001b[0m \u001b[32m2.5/2.5 MB\u001b[0m \u001b[31m33.0 MB/s\u001b[0m eta \u001b[36m0:00:00\u001b[0m:00:01\u001b[0m\n",
      "\u001b[?25hInstalling collected packages: shapely, pyproj, pyogrio, geopandas\n",
      "Successfully installed geopandas-1.0.1 pyogrio-0.9.0 pyproj-3.6.1 shapely-2.0.5\n",
      "\n",
      "\u001b[1m[\u001b[0m\u001b[34;49mnotice\u001b[0m\u001b[1;39;49m]\u001b[0m\u001b[39;49m A new release of pip is available: \u001b[0m\u001b[31;49m24.1.2\u001b[0m\u001b[39;49m -> \u001b[0m\u001b[32;49m24.2\u001b[0m\n",
      "\u001b[1m[\u001b[0m\u001b[34;49mnotice\u001b[0m\u001b[1;39;49m]\u001b[0m\u001b[39;49m To update, run: \u001b[0m\u001b[32;49mpip install --upgrade pip\u001b[0m\n",
      "Requirement already satisfied: shapely in /usr/local/python/3.10.13/lib/python3.10/site-packages (2.0.5)\n",
      "Requirement already satisfied: numpy<3,>=1.14 in /home/codespace/.local/lib/python3.10/site-packages (from shapely) (2.0.0)\n",
      "\n",
      "\u001b[1m[\u001b[0m\u001b[34;49mnotice\u001b[0m\u001b[1;39;49m]\u001b[0m\u001b[39;49m A new release of pip is available: \u001b[0m\u001b[31;49m24.1.2\u001b[0m\u001b[39;49m -> \u001b[0m\u001b[32;49m24.2\u001b[0m\n",
      "\u001b[1m[\u001b[0m\u001b[34;49mnotice\u001b[0m\u001b[1;39;49m]\u001b[0m\u001b[39;49m To update, run: \u001b[0m\u001b[32;49mpip install --upgrade pip\u001b[0m\n"
     ]
    }
   ],
   "source": [
    "import sys\n",
    "!{sys.executable} -m pip install geopandas\n",
    "!{sys.executable} -m pip install shapely"
   ]
  },
  {
   "cell_type": "code",
   "execution_count": 7,
   "metadata": {},
   "outputs": [
    {
     "name": "stdout",
     "output_type": "stream",
     "text": [
      "Requirement already satisfied: pip in /usr/local/python/3.10.13/lib/python3.10/site-packages (24.1.2)\n",
      "Collecting pip\n",
      "  Downloading pip-24.2-py3-none-any.whl.metadata (3.6 kB)\n",
      "Downloading pip-24.2-py3-none-any.whl (1.8 MB)\n",
      "\u001b[2K   \u001b[90m━━━━━━━━━━━━━━━━━━━━━━━━━━━━━━━━━━━━━━━━\u001b[0m \u001b[32m1.8/1.8 MB\u001b[0m \u001b[31m26.2 MB/s\u001b[0m eta \u001b[36m0:00:00\u001b[0m00:01\u001b[0m\n",
      "\u001b[?25hInstalling collected packages: pip\n",
      "  Attempting uninstall: pip\n",
      "    Found existing installation: pip 24.1.2\n",
      "    Uninstalling pip-24.1.2:\n",
      "      Successfully uninstalled pip-24.1.2\n",
      "Successfully installed pip-24.2\n",
      "Note: you may need to restart the kernel to use updated packages.\n"
     ]
    }
   ],
   "source": [
    "pip install --upgrade pip \n"
   ]
  }
 ],
 "metadata": {
  "kernelspec": {
   "display_name": "Python 3",
   "language": "python",
   "name": "python3"
  },
  "language_info": {
   "codemirror_mode": {
    "name": "ipython",
    "version": 3
   },
   "file_extension": ".py",
   "mimetype": "text/x-python",
   "name": "python",
   "nbconvert_exporter": "python",
   "pygments_lexer": "ipython3",
   "version": "3.10.13"
  }
 },
 "nbformat": 4,
 "nbformat_minor": 2
}
